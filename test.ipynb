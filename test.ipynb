{
 "cells": [
  {
   "cell_type": "code",
   "execution_count": 1,
   "metadata": {},
   "outputs": [],
   "source": [
    "%load_ext autoreload\n",
    "%autoreload 2\n",
    "\n",
    "from src.data_processing import get_data_to_buffer, BufferDataset\n",
    "from src.configs import TrainConfig"
   ]
  },
  {
   "cell_type": "code",
   "execution_count": null,
   "metadata": {},
   "outputs": [],
   "source": []
  },
  {
   "cell_type": "code",
   "execution_count": 3,
   "metadata": {},
   "outputs": [
    {
     "name": "stderr",
     "output_type": "stream",
     "text": [
      "  5%|▍         | 604/13100 [00:01<00:34, 359.19it/s]\n"
     ]
    },
    {
     "ename": "KeyboardInterrupt",
     "evalue": "",
     "output_type": "error",
     "traceback": [
      "\u001b[0;31m---------------------------------------------------------------------------\u001b[0m",
      "\u001b[0;31mKeyboardInterrupt\u001b[0m                         Traceback (most recent call last)",
      "Cell \u001b[0;32mIn [3], line 1\u001b[0m\n\u001b[0;32m----> 1\u001b[0m buffer \u001b[39m=\u001b[39m get_data_to_buffer(TrainConfig())\n\u001b[1;32m      3\u001b[0m dataset \u001b[39m=\u001b[39m BufferDataset(buffer)\n",
      "File \u001b[0;32m/repos/tts_project/src/data_processing.py:97\u001b[0m, in \u001b[0;36mget_data_to_buffer\u001b[0;34m(train_config)\u001b[0m\n\u001b[1;32m     94\u001b[0m mel_gt_name \u001b[39m=\u001b[39m os\u001b[39m.\u001b[39mpath\u001b[39m.\u001b[39mjoin(\n\u001b[1;32m     95\u001b[0m     train_config\u001b[39m.\u001b[39mmel_ground_truth, \u001b[39m\"\u001b[39m\u001b[39mljspeech-mel-\u001b[39m\u001b[39m%05d\u001b[39;00m\u001b[39m.npy\u001b[39m\u001b[39m\"\u001b[39m \u001b[39m%\u001b[39m (i\u001b[39m+\u001b[39m\u001b[39m1\u001b[39m))\n\u001b[1;32m     96\u001b[0m mel_gt_target \u001b[39m=\u001b[39m np\u001b[39m.\u001b[39mload(mel_gt_name)\n\u001b[0;32m---> 97\u001b[0m duration \u001b[39m=\u001b[39m np\u001b[39m.\u001b[39;49mload(os\u001b[39m.\u001b[39;49mpath\u001b[39m.\u001b[39;49mjoin(\n\u001b[1;32m     98\u001b[0m     train_config\u001b[39m.\u001b[39;49malignment_path, \u001b[39mstr\u001b[39;49m(i)\u001b[39m+\u001b[39;49m\u001b[39m\"\u001b[39;49m\u001b[39m.npy\u001b[39;49m\u001b[39m\"\u001b[39;49m))\n\u001b[1;32m     99\u001b[0m character \u001b[39m=\u001b[39m text[i][\u001b[39m0\u001b[39m:\u001b[39mlen\u001b[39m(text[i])\u001b[39m-\u001b[39m\u001b[39m1\u001b[39m]\n\u001b[1;32m    100\u001b[0m character \u001b[39m=\u001b[39m np\u001b[39m.\u001b[39marray(\n\u001b[1;32m    101\u001b[0m     text_to_sequence(character, train_config\u001b[39m.\u001b[39mtext_cleaners))\n",
      "File \u001b[0;32m/opt/conda/lib/python3.8/site-packages/numpy/lib/npyio.py:440\u001b[0m, in \u001b[0;36mload\u001b[0;34m(file, mmap_mode, allow_pickle, fix_imports, encoding)\u001b[0m\n\u001b[1;32m    438\u001b[0m         \u001b[39mreturn\u001b[39;00m \u001b[39mformat\u001b[39m\u001b[39m.\u001b[39mopen_memmap(file, mode\u001b[39m=\u001b[39mmmap_mode)\n\u001b[1;32m    439\u001b[0m     \u001b[39melse\u001b[39;00m:\n\u001b[0;32m--> 440\u001b[0m         \u001b[39mreturn\u001b[39;00m \u001b[39mformat\u001b[39;49m\u001b[39m.\u001b[39;49mread_array(fid, allow_pickle\u001b[39m=\u001b[39;49mallow_pickle,\n\u001b[1;32m    441\u001b[0m                                  pickle_kwargs\u001b[39m=\u001b[39;49mpickle_kwargs)\n\u001b[1;32m    442\u001b[0m \u001b[39melse\u001b[39;00m:\n\u001b[1;32m    443\u001b[0m     \u001b[39m# Try a pickle\u001b[39;00m\n\u001b[1;32m    444\u001b[0m     \u001b[39mif\u001b[39;00m \u001b[39mnot\u001b[39;00m allow_pickle:\n",
      "File \u001b[0;32m/opt/conda/lib/python3.8/site-packages/numpy/lib/format.py:733\u001b[0m, in \u001b[0;36mread_array\u001b[0;34m(fp, allow_pickle, pickle_kwargs)\u001b[0m\n\u001b[1;32m    731\u001b[0m version \u001b[39m=\u001b[39m read_magic(fp)\n\u001b[1;32m    732\u001b[0m _check_version(version)\n\u001b[0;32m--> 733\u001b[0m shape, fortran_order, dtype \u001b[39m=\u001b[39m _read_array_header(fp, version)\n\u001b[1;32m    734\u001b[0m \u001b[39mif\u001b[39;00m \u001b[39mlen\u001b[39m(shape) \u001b[39m==\u001b[39m \u001b[39m0\u001b[39m:\n\u001b[1;32m    735\u001b[0m     count \u001b[39m=\u001b[39m \u001b[39m1\u001b[39m\n",
      "File \u001b[0;32m/opt/conda/lib/python3.8/site-packages/numpy/lib/format.py:598\u001b[0m, in \u001b[0;36m_read_array_header\u001b[0;34m(fp, version)\u001b[0m\n\u001b[1;32m    596\u001b[0m     header \u001b[39m=\u001b[39m _filter_header(header)\n\u001b[1;32m    597\u001b[0m \u001b[39mtry\u001b[39;00m:\n\u001b[0;32m--> 598\u001b[0m     d \u001b[39m=\u001b[39m safe_eval(header)\n\u001b[1;32m    599\u001b[0m \u001b[39mexcept\u001b[39;00m \u001b[39mSyntaxError\u001b[39;00m \u001b[39mas\u001b[39;00m e:\n\u001b[1;32m    600\u001b[0m     msg \u001b[39m=\u001b[39m \u001b[39m\"\u001b[39m\u001b[39mCannot parse header: \u001b[39m\u001b[39m{!r}\u001b[39;00m\u001b[39m\"\u001b[39m\n",
      "File \u001b[0;32m/opt/conda/lib/python3.8/site-packages/numpy/lib/utils.py:1004\u001b[0m, in \u001b[0;36msafe_eval\u001b[0;34m(source)\u001b[0m\n\u001b[1;32m   1002\u001b[0m \u001b[39m# Local import to speed up numpy's import time.\u001b[39;00m\n\u001b[1;32m   1003\u001b[0m \u001b[39mimport\u001b[39;00m \u001b[39mast\u001b[39;00m\n\u001b[0;32m-> 1004\u001b[0m \u001b[39mreturn\u001b[39;00m ast\u001b[39m.\u001b[39;49mliteral_eval(source)\n",
      "File \u001b[0;32m/opt/conda/lib/python3.8/ast.py:99\u001b[0m, in \u001b[0;36mliteral_eval\u001b[0;34m(node_or_string)\u001b[0m\n\u001b[1;32m     97\u001b[0m                 \u001b[39mreturn\u001b[39;00m left \u001b[39m-\u001b[39m right\n\u001b[1;32m     98\u001b[0m     \u001b[39mreturn\u001b[39;00m _convert_signed_num(node)\n\u001b[0;32m---> 99\u001b[0m \u001b[39mreturn\u001b[39;00m _convert(node_or_string)\n",
      "File \u001b[0;32m/opt/conda/lib/python3.8/ast.py:81\u001b[0m, in \u001b[0;36mliteral_eval.<locals>._convert\u001b[0;34m(node)\u001b[0m\n\u001b[1;32m     79\u001b[0m \u001b[39melif\u001b[39;00m \u001b[39misinstance\u001b[39m(node, Tuple):\n\u001b[1;32m     80\u001b[0m     \u001b[39mreturn\u001b[39;00m \u001b[39mtuple\u001b[39m(\u001b[39mmap\u001b[39m(_convert, node\u001b[39m.\u001b[39melts))\n\u001b[0;32m---> 81\u001b[0m \u001b[39melif\u001b[39;00m \u001b[39misinstance\u001b[39m(node, List):\n\u001b[1;32m     82\u001b[0m     \u001b[39mreturn\u001b[39;00m \u001b[39mlist\u001b[39m(\u001b[39mmap\u001b[39m(_convert, node\u001b[39m.\u001b[39melts))\n\u001b[1;32m     83\u001b[0m \u001b[39melif\u001b[39;00m \u001b[39misinstance\u001b[39m(node, Set):\n",
      "\u001b[0;31mKeyboardInterrupt\u001b[0m: "
     ]
    }
   ],
   "source": [
    "buffer = get_data_to_buffer(TrainConfig())\n",
    "\n",
    "dataset = BufferDataset(buffer)"
   ]
  },
  {
   "cell_type": "code",
   "execution_count": 11,
   "metadata": {},
   "outputs": [],
   "source": [
    "from torch.utils.data import DataLoader\n",
    "from functools import partial\n",
    "from src.data_processing import collate_fn_tensor\n",
    "\n",
    "loader = DataLoader(\n",
    "    dataset,\n",
    "    batch_size=TrainConfig.batch_expand_size * TrainConfig.batch_size,\n",
    "    shuffle=True,\n",
    "    collate_fn=partial(collate_fn_tensor, batch_expand_size=TrainConfig.batch_expand_size),\n",
    "    drop_last=True,\n",
    "    num_workers=0\n",
    ")"
   ]
  },
  {
   "cell_type": "code",
   "execution_count": 13,
   "metadata": {},
   "outputs": [
    {
     "data": {
      "text/plain": [
       "torch.Size([16, 174])"
      ]
     },
     "execution_count": 13,
     "metadata": {},
     "output_type": "execute_result"
    }
   ],
   "source": [
    "batch = next(iter(loader))[0]\n",
    "batch[\"text\"].shape"
   ]
  },
  {
   "cell_type": "code",
   "execution_count": 1,
   "metadata": {},
   "outputs": [
    {
     "data": {
      "text/plain": [
       "True"
      ]
     },
     "execution_count": 1,
     "metadata": {},
     "output_type": "execute_result"
    }
   ],
   "source": [
    "import torch\n",
    "torch.cuda.is_available()"
   ]
  },
  {
   "cell_type": "code",
   "execution_count": 20,
   "metadata": {},
   "outputs": [
    {
     "name": "stdout",
     "output_type": "stream",
     "text": [
      "torch.Size([4, 12, 16])\n",
      "torch.Size([4, 12, 16])\n",
      "torch.Size([4, 12, 16])\n"
     ]
    }
   ],
   "source": [
    "from src.FFT import FFTBlock\n",
    "import torch\n",
    "\n",
    "hidden_size = 16\n",
    "intermediate_size = 64\n",
    "n_head = 4\n",
    "batch_size = 4\n",
    "seq_len = 12\n",
    "\n",
    "fft_block = FFTBlock(hidden_size, intermediate_size, n_head)\n",
    "\n",
    "inp_tensor = torch.rand(batch_size, seq_len, hidden_size, dtype=torch.float32)\n",
    "\n",
    "out_tensor = fft_block(inp_tensor)\n",
    "\n",
    "assert inp_tensor.shape == out_tensor.shape"
   ]
  },
  {
   "cell_type": "code",
   "execution_count": 19,
   "metadata": {},
   "outputs": [
    {
     "data": {
      "text/plain": [
       "torch.Size([12, 16])"
      ]
     },
     "execution_count": 19,
     "metadata": {},
     "output_type": "execute_result"
    }
   ],
   "source": [
    "out_tensor.shape"
   ]
  },
  {
   "cell_type": "code",
   "execution_count": 2,
   "metadata": {},
   "outputs": [],
   "source": []
  },
  {
   "cell_type": "code",
   "execution_count": 3,
   "metadata": {},
   "outputs": [],
   "source": []
  },
  {
   "cell_type": "code",
   "execution_count": 2,
   "metadata": {},
   "outputs": [
    {
     "name": "stderr",
     "output_type": "stream",
     "text": [
      "100%|██████████| 13100/13100 [00:08<00:00, 1548.20it/s]"
     ]
    },
    {
     "name": "stdout",
     "output_type": "stream",
     "text": [
      "cost 8.47s to load all data into buffer.\n"
     ]
    },
    {
     "name": "stderr",
     "output_type": "stream",
     "text": [
      "\n"
     ]
    }
   ],
   "source": [
    "from src.configs import TrainConfig, FastSpeech2Config, MelSpectrogramConfig\n",
    "from src.training.training_loop import train, prepare\n",
    "\n",
    "model_config = FastSpeech2Config()\n",
    "train_config = TrainConfig()\n",
    "mel_config = MelSpectrogramConfig()\n",
    "\n",
    "model, train_loader, fastspeech_loss, optimizer, scheduler = prepare(model_config, train_config, mel_config)"
   ]
  },
  {
   "cell_type": "code",
   "execution_count": 36,
   "metadata": {},
   "outputs": [
    {
     "name": "stderr",
     "output_type": "stream",
     "text": [
      "/opt/conda/lib/python3.8/site-packages/torch/serialization.py:786: SourceChangeWarning: source code of class 'glow.WaveGlow' has changed. Saved a reverse patch to WaveGlow.patch. Run `patch -p0 < WaveGlow.patch` to revert your changes.\n",
      "  warnings.warn(msg, SourceChangeWarning)\n",
      "/opt/conda/lib/python3.8/site-packages/torch/serialization.py:786: SourceChangeWarning: source code of class 'torch.nn.modules.conv.ConvTranspose1d' has changed. Tried to save a patch, but couldn't create a writable file ConvTranspose1d.patch. Make sure it doesn't exist and your working directory is writable.\n",
      "  warnings.warn(msg, SourceChangeWarning)\n",
      "/opt/conda/lib/python3.8/site-packages/torch/serialization.py:786: SourceChangeWarning: source code of class 'torch.nn.modules.container.ModuleList' has changed. Saved a reverse patch to ModuleList.patch. Run `patch -p0 < ModuleList.patch` to revert your changes.\n",
      "  warnings.warn(msg, SourceChangeWarning)\n",
      "/opt/conda/lib/python3.8/site-packages/torch/serialization.py:786: SourceChangeWarning: source code of class 'glow.WN' has changed. Saved a reverse patch to WN.patch. Run `patch -p0 < WN.patch` to revert your changes.\n",
      "  warnings.warn(msg, SourceChangeWarning)\n",
      "/opt/conda/lib/python3.8/site-packages/torch/serialization.py:786: SourceChangeWarning: source code of class 'torch.nn.modules.conv.Conv1d' has changed. Tried to save a patch, but couldn't create a writable file Conv1d.patch. Make sure it doesn't exist and your working directory is writable.\n",
      "  warnings.warn(msg, SourceChangeWarning)\n",
      "/opt/conda/lib/python3.8/site-packages/torch/serialization.py:786: SourceChangeWarning: source code of class 'glow.Invertible1x1Conv' has changed. Saved a reverse patch to Invertible1x1Conv.patch. Run `patch -p0 < Invertible1x1Conv.patch` to revert your changes.\n",
      "  warnings.warn(msg, SourceChangeWarning)\n"
     ]
    }
   ],
   "source": [
    "import src.xcmyz_utils.utils as utils\n",
    "\n",
    "WaveGlow = utils.get_WaveGlow()\n",
    "WaveGlow = WaveGlow.cuda()"
   ]
  },
  {
   "cell_type": "code",
   "execution_count": 54,
   "metadata": {},
   "outputs": [
    {
     "name": "stdout",
     "output_type": "stream",
     "text": [
      "torch.Size([1, 60]) torch.Size([1, 60])\n"
     ]
    }
   ],
   "source": [
    "from src.training.synthesis import synthesis\n",
    "\n",
    "model.eval()\n",
    "synthesis(model, WaveGlow, \"Kek koksdnldj ldksfjl laj lajflasjfas lfjasj flaksfj oh yes!\", \"test.wav\", train_config.text_cleaners)"
   ]
  },
  {
   "cell_type": "code",
   "execution_count": null,
   "metadata": {},
   "outputs": [],
   "source": []
  },
  {
   "cell_type": "code",
   "execution_count": 13,
   "metadata": {},
   "outputs": [],
   "source": [
    "train_config = TrainConfig()"
   ]
  },
  {
   "cell_type": "code",
   "execution_count": 3,
   "metadata": {},
   "outputs": [],
   "source": [
    "for el in train_loader:\n",
    "    break"
   ]
  },
  {
   "cell_type": "code",
   "execution_count": 42,
   "metadata": {},
   "outputs": [],
   "source": [
    "db = el[0]\n",
    "\n",
    "character = db[\"text\"].long().to(train_config.device)\n",
    "mel_target = db[\"mel_target\"].float().to(train_config.device)\n",
    "duration = db[\"duration\"].int().to(train_config.device)\n",
    "mel_pos = db[\"mel_pos\"].long().to(train_config.device)\n",
    "src_pos = db[\"src_pos\"].long().to(train_config.device)\n",
    "max_mel_len = db[\"mel_max_len\"]"
   ]
  },
  {
   "cell_type": "code",
   "execution_count": 16,
   "metadata": {},
   "outputs": [
    {
     "data": {
      "text/plain": [
       "torch.Size([16, 173])"
      ]
     },
     "execution_count": 16,
     "metadata": {},
     "output_type": "execute_result"
    }
   ],
   "source": [
    "character.shape"
   ]
  },
  {
   "cell_type": "code",
   "execution_count": 39,
   "metadata": {},
   "outputs": [
    {
     "data": {
      "text/plain": [
       "torch.Size([16, 172])"
      ]
     },
     "execution_count": 39,
     "metadata": {},
     "output_type": "execute_result"
    }
   ],
   "source": [
    "character.shape"
   ]
  },
  {
   "cell_type": "code",
   "execution_count": 55,
   "metadata": {},
   "outputs": [],
   "source": [
    "model.train()\n",
    "\n",
    "mel_output, duration_predictor_output = model.forward(character,\n",
    "                                            src_pos,\n",
    "                                            mel_pos=mel_pos,\n",
    "                                            mel_max_length=max_mel_len,\n",
    "                                            length_target=duration)\n"
   ]
  },
  {
   "cell_type": "code",
   "execution_count": 45,
   "metadata": {},
   "outputs": [
    {
     "data": {
      "text/plain": [
       "torch.Size([16, 172])"
      ]
     },
     "execution_count": 45,
     "metadata": {},
     "output_type": "execute_result"
    }
   ],
   "source": [
    "duration_predictor_output.shape"
   ]
  },
  {
   "cell_type": "code",
   "execution_count": 35,
   "metadata": {},
   "outputs": [
    {
     "data": {
      "text/plain": [
       "tensor([[  1,   2,   3,  ..., 867,   0,   0],\n",
       "        [  1,   2,   3,  ...,   0,   0,   0],\n",
       "        [  1,   2,   3,  ...,   0,   0,   0],\n",
       "        ...,\n",
       "        [  1,   2,   3,  ...,   0,   0,   0],\n",
       "        [  1,   2,   3,  ...,   0,   0,   0],\n",
       "        [  1,   2,   3,  ..., 867, 868, 869]], device='cuda:0')"
      ]
     },
     "execution_count": 35,
     "metadata": {},
     "output_type": "execute_result"
    }
   ],
   "source": [
    "mp"
   ]
  },
  {
   "cell_type": "code",
   "execution_count": 51,
   "metadata": {},
   "outputs": [
    {
     "name": "stdout",
     "output_type": "stream",
     "text": [
      "k  torch.Size([1, 172, 256])\n",
      "torch.Size([1, 172, 256])  . a\n",
      "torch.Size([1, 172])  . o\n",
      "torch.Size([1, 172])  . aa\n",
      "torch.Size([1, 172, 256]) torch.Size([1, 172])  . t\n",
      "torch.Size([1, 172])\n",
      "bb torch.Size([1, 33, 256]) torch.Size([1, 33])\n"
     ]
    }
   ],
   "source": [
    "model.eval()\n",
    "\n",
    "mel_output = model.forward(character[:1],\n",
    "                                            src_pos[:1])\n",
    "                                            #mel_pos=mel_pos,\n",
    "                                            #mel_max_length=max_mel_len,\n",
    "                                            #length_target=duration)\n"
   ]
  },
  {
   "cell_type": "code",
   "execution_count": 49,
   "metadata": {},
   "outputs": [
    {
     "data": {
      "text/plain": [
       "torch.Size([1, 33, 80])"
      ]
     },
     "execution_count": 49,
     "metadata": {},
     "output_type": "execute_result"
    }
   ],
   "source": [
    "mel_output.shape"
   ]
  },
  {
   "cell_type": "code",
   "execution_count": 7,
   "metadata": {},
   "outputs": [
    {
     "data": {
      "text/plain": [
       "torch.Size([16, 865, 80])"
      ]
     },
     "execution_count": 7,
     "metadata": {},
     "output_type": "execute_result"
    }
   ],
   "source": [
    "mel_target.shape"
   ]
  },
  {
   "cell_type": "code",
   "execution_count": 12,
   "metadata": {},
   "outputs": [
    {
     "data": {
      "text/plain": [
       "torch.Size([16, 184])"
      ]
     },
     "execution_count": 12,
     "metadata": {},
     "output_type": "execute_result"
    }
   ],
   "source": [
    "src_pos.shape"
   ]
  },
  {
   "cell_type": "code",
   "execution_count": 6,
   "metadata": {},
   "outputs": [
    {
     "data": {
      "text/plain": [
       "torch.Size([16, 865, 80])"
      ]
     },
     "execution_count": 6,
     "metadata": {},
     "output_type": "execute_result"
    }
   ],
   "source": [
    "mel_output.shape"
   ]
  },
  {
   "cell_type": "code",
   "execution_count": 6,
   "metadata": {},
   "outputs": [
    {
     "name": "stderr",
     "output_type": "stream",
     "text": [
      "  0%|          | 0/1600000 [00:00<?, ?it/s]Failed to detect the name of this notebook, you can set it manually with the WANDB_NOTEBOOK_NAME environment variable to enable code saving.\n",
      "\u001b[34m\u001b[1mwandb\u001b[0m: Currently logged in as: \u001b[33mbroccoliman\u001b[0m. Use \u001b[1m`wandb login --relogin`\u001b[0m to force relogin\n"
     ]
    },
    {
     "data": {
      "text/html": [
       "Tracking run with wandb version 0.13.5"
      ],
      "text/plain": [
       "<IPython.core.display.HTML object>"
      ]
     },
     "metadata": {},
     "output_type": "display_data"
    },
    {
     "data": {
      "text/html": [
       "Run data is saved locally in <code>/repos/tts_project/wandb/run-20221126_195258-22hmqj7l</code>"
      ],
      "text/plain": [
       "<IPython.core.display.HTML object>"
      ]
     },
     "metadata": {},
     "output_type": "display_data"
    },
    {
     "data": {
      "text/html": [
       "Syncing run <strong><a href=\"https://wandb.ai/broccoliman/TTS/runs/22hmqj7l\" target=\"_blank\">stoic-monkey-5</a></strong> to <a href=\"https://wandb.ai/broccoliman/TTS\" target=\"_blank\">Weights & Biases</a> (<a href=\"https://wandb.me/run\" target=\"_blank\">docs</a>)<br/>"
      ],
      "text/plain": [
       "<IPython.core.display.HTML object>"
      ]
     },
     "metadata": {},
     "output_type": "display_data"
    },
    {
     "name": "stderr",
     "output_type": "stream",
     "text": [
      "  0%|          | 3000/1600000 [03:56<30:16:51, 14.65it/s]"
     ]
    },
    {
     "ename": "FileNotFoundError",
     "evalue": "[Errno 2] No such file or directory: './data/model_new/checkpoint_3000.pth.tar'",
     "output_type": "error",
     "traceback": [
      "\u001b[0;31m---------------------------------------------------------------------------\u001b[0m",
      "\u001b[0;31mFileNotFoundError\u001b[0m                         Traceback (most recent call last)",
      "\u001b[0;32m/tmp/ipykernel_1618/709371431.py\u001b[0m in \u001b[0;36m<module>\u001b[0;34m\u001b[0m\n\u001b[0;32m----> 1\u001b[0;31m \u001b[0mmodel\u001b[0m \u001b[0;34m=\u001b[0m \u001b[0mtrain\u001b[0m\u001b[0;34m(\u001b[0m\u001b[0mtrain_config\u001b[0m\u001b[0;34m,\u001b[0m \u001b[0mmodel\u001b[0m\u001b[0;34m,\u001b[0m \u001b[0mtrain_loader\u001b[0m\u001b[0;34m,\u001b[0m \u001b[0mfastspeech_loss\u001b[0m\u001b[0;34m,\u001b[0m \u001b[0moptimizer\u001b[0m\u001b[0;34m,\u001b[0m \u001b[0mscheduler\u001b[0m\u001b[0;34m)\u001b[0m\u001b[0;34m\u001b[0m\u001b[0;34m\u001b[0m\u001b[0m\n\u001b[0m",
      "\u001b[0;32m/repos/tts_project/src/training/training_loop.py\u001b[0m in \u001b[0;36mtrain\u001b[0;34m(train_config, model, train_loader, fastspeech_loss, optimizer, scheduler)\u001b[0m\n\u001b[1;32m    111\u001b[0m \u001b[0;34m\u001b[0m\u001b[0m\n\u001b[1;32m    112\u001b[0m                 \u001b[0;32mif\u001b[0m \u001b[0mcurrent_step\u001b[0m \u001b[0;34m%\u001b[0m \u001b[0mtrain_config\u001b[0m\u001b[0;34m.\u001b[0m\u001b[0msave_step\u001b[0m \u001b[0;34m==\u001b[0m \u001b[0;36m0\u001b[0m\u001b[0;34m:\u001b[0m\u001b[0;34m\u001b[0m\u001b[0;34m\u001b[0m\u001b[0m\n\u001b[0;32m--> 113\u001b[0;31m                     torch.save({'model': model.state_dict(), 'optimizer': optimizer.state_dict(\n\u001b[0m\u001b[1;32m    114\u001b[0m                     )}, os.path.join(train_config.checkpoint_path, 'checkpoint_%d.pth.tar' % current_step))\n\u001b[1;32m    115\u001b[0m                     \u001b[0mprint\u001b[0m\u001b[0;34m(\u001b[0m\u001b[0;34m\"save model at step %d ...\"\u001b[0m \u001b[0;34m%\u001b[0m \u001b[0mcurrent_step\u001b[0m\u001b[0;34m)\u001b[0m\u001b[0;34m\u001b[0m\u001b[0;34m\u001b[0m\u001b[0m\n",
      "\u001b[0;32m/opt/conda/lib/python3.8/site-packages/torch/serialization.py\u001b[0m in \u001b[0;36msave\u001b[0;34m(obj, f, pickle_module, pickle_protocol, _use_new_zipfile_serialization)\u001b[0m\n\u001b[1;32m    375\u001b[0m     \u001b[0m_check_dill_version\u001b[0m\u001b[0;34m(\u001b[0m\u001b[0mpickle_module\u001b[0m\u001b[0;34m)\u001b[0m\u001b[0;34m\u001b[0m\u001b[0;34m\u001b[0m\u001b[0m\n\u001b[1;32m    376\u001b[0m \u001b[0;34m\u001b[0m\u001b[0m\n\u001b[0;32m--> 377\u001b[0;31m     \u001b[0;32mwith\u001b[0m \u001b[0m_open_file_like\u001b[0m\u001b[0;34m(\u001b[0m\u001b[0mf\u001b[0m\u001b[0;34m,\u001b[0m \u001b[0;34m'wb'\u001b[0m\u001b[0;34m)\u001b[0m \u001b[0;32mas\u001b[0m \u001b[0mopened_file\u001b[0m\u001b[0;34m:\u001b[0m\u001b[0;34m\u001b[0m\u001b[0;34m\u001b[0m\u001b[0m\n\u001b[0m\u001b[1;32m    378\u001b[0m         \u001b[0;32mif\u001b[0m \u001b[0m_use_new_zipfile_serialization\u001b[0m\u001b[0;34m:\u001b[0m\u001b[0;34m\u001b[0m\u001b[0;34m\u001b[0m\u001b[0m\n\u001b[1;32m    379\u001b[0m             \u001b[0;32mwith\u001b[0m \u001b[0m_open_zipfile_writer\u001b[0m\u001b[0;34m(\u001b[0m\u001b[0mopened_file\u001b[0m\u001b[0;34m)\u001b[0m \u001b[0;32mas\u001b[0m \u001b[0mopened_zipfile\u001b[0m\u001b[0;34m:\u001b[0m\u001b[0;34m\u001b[0m\u001b[0;34m\u001b[0m\u001b[0m\n",
      "\u001b[0;32m/opt/conda/lib/python3.8/site-packages/torch/serialization.py\u001b[0m in \u001b[0;36m_open_file_like\u001b[0;34m(name_or_buffer, mode)\u001b[0m\n\u001b[1;32m    229\u001b[0m \u001b[0;32mdef\u001b[0m \u001b[0m_open_file_like\u001b[0m\u001b[0;34m(\u001b[0m\u001b[0mname_or_buffer\u001b[0m\u001b[0;34m,\u001b[0m \u001b[0mmode\u001b[0m\u001b[0;34m)\u001b[0m\u001b[0;34m:\u001b[0m\u001b[0;34m\u001b[0m\u001b[0;34m\u001b[0m\u001b[0m\n\u001b[1;32m    230\u001b[0m     \u001b[0;32mif\u001b[0m \u001b[0m_is_path\u001b[0m\u001b[0;34m(\u001b[0m\u001b[0mname_or_buffer\u001b[0m\u001b[0;34m)\u001b[0m\u001b[0;34m:\u001b[0m\u001b[0;34m\u001b[0m\u001b[0;34m\u001b[0m\u001b[0m\n\u001b[0;32m--> 231\u001b[0;31m         \u001b[0;32mreturn\u001b[0m \u001b[0m_open_file\u001b[0m\u001b[0;34m(\u001b[0m\u001b[0mname_or_buffer\u001b[0m\u001b[0;34m,\u001b[0m \u001b[0mmode\u001b[0m\u001b[0;34m)\u001b[0m\u001b[0;34m\u001b[0m\u001b[0;34m\u001b[0m\u001b[0m\n\u001b[0m\u001b[1;32m    232\u001b[0m     \u001b[0;32melse\u001b[0m\u001b[0;34m:\u001b[0m\u001b[0;34m\u001b[0m\u001b[0;34m\u001b[0m\u001b[0m\n\u001b[1;32m    233\u001b[0m         \u001b[0;32mif\u001b[0m \u001b[0;34m'w'\u001b[0m \u001b[0;32min\u001b[0m \u001b[0mmode\u001b[0m\u001b[0;34m:\u001b[0m\u001b[0;34m\u001b[0m\u001b[0;34m\u001b[0m\u001b[0m\n",
      "\u001b[0;32m/opt/conda/lib/python3.8/site-packages/torch/serialization.py\u001b[0m in \u001b[0;36m__init__\u001b[0;34m(self, name, mode)\u001b[0m\n\u001b[1;32m    210\u001b[0m \u001b[0;32mclass\u001b[0m \u001b[0m_open_file\u001b[0m\u001b[0;34m(\u001b[0m\u001b[0m_opener\u001b[0m\u001b[0;34m)\u001b[0m\u001b[0;34m:\u001b[0m\u001b[0;34m\u001b[0m\u001b[0;34m\u001b[0m\u001b[0m\n\u001b[1;32m    211\u001b[0m     \u001b[0;32mdef\u001b[0m \u001b[0m__init__\u001b[0m\u001b[0;34m(\u001b[0m\u001b[0mself\u001b[0m\u001b[0;34m,\u001b[0m \u001b[0mname\u001b[0m\u001b[0;34m,\u001b[0m \u001b[0mmode\u001b[0m\u001b[0;34m)\u001b[0m\u001b[0;34m:\u001b[0m\u001b[0;34m\u001b[0m\u001b[0;34m\u001b[0m\u001b[0m\n\u001b[0;32m--> 212\u001b[0;31m         \u001b[0msuper\u001b[0m\u001b[0;34m(\u001b[0m\u001b[0m_open_file\u001b[0m\u001b[0;34m,\u001b[0m \u001b[0mself\u001b[0m\u001b[0;34m)\u001b[0m\u001b[0;34m.\u001b[0m\u001b[0m__init__\u001b[0m\u001b[0;34m(\u001b[0m\u001b[0mopen\u001b[0m\u001b[0;34m(\u001b[0m\u001b[0mname\u001b[0m\u001b[0;34m,\u001b[0m \u001b[0mmode\u001b[0m\u001b[0;34m)\u001b[0m\u001b[0;34m)\u001b[0m\u001b[0;34m\u001b[0m\u001b[0;34m\u001b[0m\u001b[0m\n\u001b[0m\u001b[1;32m    213\u001b[0m \u001b[0;34m\u001b[0m\u001b[0m\n\u001b[1;32m    214\u001b[0m     \u001b[0;32mdef\u001b[0m \u001b[0m__exit__\u001b[0m\u001b[0;34m(\u001b[0m\u001b[0mself\u001b[0m\u001b[0;34m,\u001b[0m \u001b[0;34m*\u001b[0m\u001b[0margs\u001b[0m\u001b[0;34m)\u001b[0m\u001b[0;34m:\u001b[0m\u001b[0;34m\u001b[0m\u001b[0;34m\u001b[0m\u001b[0m\n",
      "\u001b[0;31mFileNotFoundError\u001b[0m: [Errno 2] No such file or directory: './data/model_new/checkpoint_3000.pth.tar'"
     ]
    }
   ],
   "source": [
    "model = train(train_config, model, train_loader, fastspeech_loss, optimizer, scheduler)"
   ]
  },
  {
   "cell_type": "code",
   "execution_count": 57,
   "metadata": {},
   "outputs": [],
   "source": [
    "\n",
    "from scipy.io import wavfile\n",
    "\n",
    "sr, wav_data = wavfile.read(\"test.wav\")\n",
    "\n",
    "# audio = pn.pane.Audio(wav_data, sample_rate=sr, name='Audio', throttle=500)"
   ]
  },
  {
   "cell_type": "code",
   "execution_count": 59,
   "metadata": {},
   "outputs": [
    {
     "name": "stderr",
     "output_type": "stream",
     "text": [
      "Failed to detect the name of this notebook, you can set it manually with the WANDB_NOTEBOOK_NAME environment variable to enable code saving.\n",
      "\u001b[34m\u001b[1mwandb\u001b[0m: Currently logged in as: \u001b[33mbroccoliman\u001b[0m. Use \u001b[1m`wandb login --relogin`\u001b[0m to force relogin\n"
     ]
    },
    {
     "data": {
      "text/html": [
       "Tracking run with wandb version 0.13.5"
      ],
      "text/plain": [
       "<IPython.core.display.HTML object>"
      ]
     },
     "metadata": {},
     "output_type": "display_data"
    },
    {
     "data": {
      "text/html": [
       "Run data is saved locally in <code>/repos/tts_project/wandb/run-20221127_113428-39vhexc8</code>"
      ],
      "text/plain": [
       "<IPython.core.display.HTML object>"
      ]
     },
     "metadata": {},
     "output_type": "display_data"
    },
    {
     "data": {
      "text/html": [
       "Syncing run <strong><a href=\"https://wandb.ai/broccoliman/TTS/runs/39vhexc8\" target=\"_blank\">dainty-sea-6</a></strong> to <a href=\"https://wandb.ai/broccoliman/TTS\" target=\"_blank\">Weights & Biases</a> (<a href=\"https://wandb.me/run\" target=\"_blank\">docs</a>)<br/>"
      ],
      "text/plain": [
       "<IPython.core.display.HTML object>"
      ]
     },
     "metadata": {},
     "output_type": "display_data"
    },
    {
     "data": {
      "text/html": [
       "Waiting for W&B process to finish... <strong style=\"color:green\">(success).</strong>"
      ],
      "text/plain": [
       "<IPython.core.display.HTML object>"
      ]
     },
     "metadata": {},
     "output_type": "display_data"
    },
    {
     "data": {
      "application/vnd.jupyter.widget-view+json": {
       "model_id": "4f69207a0b6646a4973906110355bf40",
       "version_major": 2,
       "version_minor": 0
      },
      "text/plain": [
       "VBox(children=(Label(value='0.005 MB of 0.011 MB uploaded (0.000 MB deduped)\\r'), FloatProgress(value=0.435780…"
      ]
     },
     "metadata": {},
     "output_type": "display_data"
    },
    {
     "data": {
      "text/html": [
       "Synced <strong style=\"color:#cdcd00\">dainty-sea-6</strong>: <a href=\"https://wandb.ai/broccoliman/TTS/runs/39vhexc8\" target=\"_blank\">https://wandb.ai/broccoliman/TTS/runs/39vhexc8</a><br/>Synced 5 W&B file(s), 1 media file(s), 0 artifact file(s) and 0 other file(s)"
      ],
      "text/plain": [
       "<IPython.core.display.HTML object>"
      ]
     },
     "metadata": {},
     "output_type": "display_data"
    },
    {
     "data": {
      "text/html": [
       "Find logs at: <code>./wandb/run-20221127_113428-39vhexc8/logs</code>"
      ],
      "text/plain": [
       "<IPython.core.display.HTML object>"
      ]
     },
     "metadata": {},
     "output_type": "display_data"
    }
   ],
   "source": [
    "import wandb\n",
    "\n",
    "wandb.init(entity=\"broccoliman\", project=\"TTS\")\n",
    "\n",
    "wandb.log({\"whale songs\": wandb.Audio(wav_data, caption=\"OooOoo\", sample_rate=sr)})\n",
    "\n",
    "wandb.finish()"
   ]
  },
  {
   "cell_type": "code",
   "execution_count": 1,
   "metadata": {},
   "outputs": [],
   "source": [
    "import pyworld"
   ]
  },
  {
   "cell_type": "code",
   "execution_count": 2,
   "metadata": {},
   "outputs": [],
   "source": [
    "from src.configs import MelSpectrogramConfig, TrainConfig"
   ]
  },
  {
   "cell_type": "code",
   "execution_count": 7,
   "metadata": {},
   "outputs": [],
   "source": [
    "import src.xcmyz_utils.audio.hparams_audio as audio_params\n",
    "\n",
    "#pyworld.dio()"
   ]
  },
  {
   "cell_type": "code",
   "execution_count": 6,
   "metadata": {},
   "outputs": [],
   "source": [
    "import os\n",
    "\n",
    "beb = sorted(os.listdir(\"data/LJSpeech-1.1/wavs/\"))"
   ]
  },
  {
   "cell_type": "code",
   "execution_count": null,
   "metadata": {},
   "outputs": [],
   "source": []
  },
  {
   "cell_type": "code",
   "execution_count": 8,
   "metadata": {},
   "outputs": [],
   "source": [
    "from scipy.io import wavfile\n",
    "\n",
    "wav_data = wavfile.read(f\"data/LJSpeech-1.1/wavs/{beb[0]}\")[1]"
   ]
  },
  {
   "cell_type": "code",
   "execution_count": 25,
   "metadata": {},
   "outputs": [],
   "source": [
    "import torchaudio\n",
    "wav = torchaudio.load(f\"data/LJSpeech-1.1/wavs/{beb[0]}\")[0].squeeze(0)"
   ]
  },
  {
   "cell_type": "code",
   "execution_count": 26,
   "metadata": {},
   "outputs": [
    {
     "data": {
      "text/plain": [
       "(tensor([[-7.3242e-04, -7.6294e-04, -6.4087e-04,  ...,  7.3242e-04,\n",
       "           2.1362e-04,  6.1035e-05]]),\n",
       " 22050)"
      ]
     },
     "execution_count": 26,
     "metadata": {},
     "output_type": "execute_result"
    }
   ],
   "source": [
    "wav"
   ]
  },
  {
   "cell_type": "code",
   "execution_count": 22,
   "metadata": {},
   "outputs": [],
   "source": [
    "stft = lambda wav: torch.stft(\n",
    "    wav,\n",
    "    audio_params.filter_length,\n",
    "    audio_params.hop_length,\n",
    "    audio_params.win_length,\n",
    "    return_complex=False,\n",
    ")\n",
    "\n",
    "\n",
    "import numpy as np\n",
    "import torch\n",
    "\n",
    "energy = stft(wav.to(torch.float64)).square().sum((-1, 0)).sqrt()"
   ]
  },
  {
   "cell_type": "code",
   "execution_count": 23,
   "metadata": {},
   "outputs": [
    {
     "data": {
      "text/plain": [
       "<seaborn.axisgrid.FacetGrid at 0x7f0f7bbb3520>"
      ]
     },
     "execution_count": 23,
     "metadata": {},
     "output_type": "execute_result"
    },
    {
     "data": {
      "image/png": "[encoded data removed]",
      "text/plain": [
       "<Figure size 360x360 with 1 Axes>"
      ]
     },
     "metadata": {
      "needs_background": "light"
     },
     "output_type": "display_data"
    }
   ],
   "source": [
    "sns.displot(energy)"
   ]
  },
  {
   "cell_type": "code",
   "execution_count": null,
   "metadata": {},
   "outputs": [],
   "source": []
  },
  {
   "cell_type": "code",
   "execution_count": null,
   "metadata": {},
   "outputs": [],
   "source": []
  },
  {
   "cell_type": "code",
   "execution_count": 11,
   "metadata": {},
   "outputs": [
    {
     "data": {
      "text/plain": [
       "(832,)"
      ]
     },
     "execution_count": 11,
     "metadata": {},
     "output_type": "execute_result"
    }
   ],
   "source": [
    "import numpy as np\n",
    "import pyworld\n",
    "\n",
    "wav = wav_data.astype(np.float64)\n",
    "\n",
    "pitch, t = pyworld.dio(wav, audio_params.sampling_rate, frame_period=audio_params.hop_length * 1000 / audio_params.sampling_rate)\n",
    "pitch = pyworld.stonemask(wav, pitch, t, audio_params.sampling_rate)\n",
    "pitch.shape"
   ]
  },
  {
   "cell_type": "code",
   "execution_count": 12,
   "metadata": {},
   "outputs": [
    {
     "data": {
      "text/plain": [
       "array([  0.        ,   0.        ,   0.        ,   0.        ,\n",
       "         0.        , 400.97985489, 399.09405629, 417.07634982,\n",
       "       429.28466993, 435.5986787 , 434.98521216, 432.56038547,\n",
       "       436.09971834, 411.58389772, 437.00324627, 445.2789364 ,\n",
       "       453.8034053 , 427.42127799, 424.56398022, 424.9435847 ,\n",
       "         0.        ,   0.        ,   0.        ,   0.        ,\n",
       "         0.        ,   0.        ,   0.        ,   0.        ,\n",
       "       197.79629114, 186.78898275, 185.32084628, 183.00966548,\n",
       "       180.14081685, 176.68042845, 175.38439123, 175.1097288 ,\n",
       "       178.01018987, 178.59351332, 182.45603497, 190.96028892,\n",
       "       198.20622115, 215.96909656, 232.25095207, 251.27272767,\n",
       "       259.08751417, 276.81900128, 293.77151815, 313.9589748 ,\n",
       "       336.27885131, 353.74283896, 363.51224529, 336.49706577,\n",
       "       317.71286253, 291.17305461, 334.75697106, 294.819529  ,\n",
       "         0.        ,   0.        ,   0.        ,   0.        ,\n",
       "         0.        ,   0.        ,   0.        ,   0.        ,\n",
       "         0.        ,   0.        ,   0.        ,   0.        ,\n",
       "         0.        ,   0.        ,   0.        ,   0.        ,\n",
       "         0.        ,   0.        ,   0.        , 251.76465148,\n",
       "         0.        , 194.19500605, 191.31767535, 188.60680145,\n",
       "       188.58748328, 185.61195534, 186.77306458, 189.47573849,\n",
       "       190.30451527, 189.12125526, 184.37199908, 179.29028688,\n",
       "       174.88369865, 182.73732519, 183.28061685, 181.6459136 ,\n",
       "       181.88696945, 182.70730662, 184.23622952, 183.23825273,\n",
       "       182.58147323, 181.89312969, 183.57459792, 185.8895209 ,\n",
       "       187.17143827, 186.38768849, 186.44452561, 189.86623446,\n",
       "       192.13611343, 194.50894713, 197.52342709, 201.73045925,\n",
       "       204.14470991, 207.51982184, 210.10027584, 214.35963239,\n",
       "       216.76474897, 214.39275097, 213.51454614, 210.13452249,\n",
       "       204.84240801, 201.89434004, 200.93721823, 186.4797668 ,\n",
       "       181.21293788, 175.55181379, 171.43134189, 173.0098503 ,\n",
       "       174.20587448, 174.2024116 , 172.81397218, 175.87599597,\n",
       "       180.70927724, 224.0899241 , 173.86395227,   0.        ,\n",
       "         0.        ,   0.        ,   0.        ,   0.        ,\n",
       "         0.        ,   0.        ,   0.        ,   0.        ,\n",
       "         0.        ,   0.        ,   0.        , 193.5746796 ,\n",
       "       180.34587476, 173.83985057, 170.04257088, 169.14238246,\n",
       "       169.43197144, 170.72994668, 175.91608913, 184.07405814,\n",
       "       194.42509408,   0.        , 238.2958861 , 264.07473681,\n",
       "       282.25230005, 317.85370817, 344.26928503,   0.        ,\n",
       "         0.        ,   0.        ,   0.        ,   0.        ,\n",
       "         0.        ,   0.        ,   0.        ,   0.        ,\n",
       "         0.        ,   0.        ,   0.        ,   0.        ,\n",
       "         0.        , 180.39993087, 170.79920382, 164.34974399,\n",
       "       158.50368133, 151.47295178,   0.        ,   0.        ,\n",
       "         0.        ,   0.        ,   0.        ,   0.        ,\n",
       "         0.        ,   0.        , 179.58313715, 169.04735931,\n",
       "       170.32952976, 170.25121073, 171.04324225, 172.44278731,\n",
       "       174.0860068 , 179.30788381, 200.05617524,   0.        ,\n",
       "         0.        ,   0.        ,   0.        ,   0.        ,\n",
       "         0.        ,   0.        ,   0.        ,   0.        ,\n",
       "         0.        ,   0.        ,   0.        ,   0.        ,\n",
       "       189.98771557, 167.13392973, 162.47178086, 159.31993545,\n",
       "       157.61098342, 157.57663351, 158.67181182, 157.74423936,\n",
       "       156.9823414 , 159.43071778, 162.21218043, 158.43571282,\n",
       "       157.39037402, 154.88737707, 151.48926441, 152.73265924,\n",
       "       155.2864839 , 155.78267523, 157.08441817, 158.65119235,\n",
       "       160.41855511, 161.38560094, 162.04969062, 164.74402166,\n",
       "       174.07813572, 183.10083189, 197.23892036, 215.23146254,\n",
       "       233.57679808, 259.61213198, 286.53348214, 307.77986657,\n",
       "       325.98231859, 358.86895742, 346.11785685,   0.        ,\n",
       "         0.        ,   0.        ,   0.        ,   0.        ,\n",
       "         0.        ,   0.        ,   0.        ,   0.        ,\n",
       "         0.        ,   0.        , 281.7320331 , 282.95524891,\n",
       "       250.05195955, 224.56727911, 209.68287464, 204.38350923,\n",
       "       202.09372567, 200.07916818, 198.51844277, 193.86814021,\n",
       "       188.86396844, 188.64222687, 203.25062306,   0.        ,\n",
       "         0.        , 275.85777761, 251.963095  , 251.07127   ,\n",
       "       248.02794474, 259.79135322, 269.88172765, 277.30390756,\n",
       "       276.33041025, 241.37945962, 309.19693042, 299.0070346 ,\n",
       "       281.64090642, 282.44215053, 266.94393024,   0.        ,\n",
       "         0.        ,   0.        ,   0.        ,   0.        ,\n",
       "       293.04949414, 297.20894956, 272.84801235, 255.91311768,\n",
       "       237.10915202, 226.49681536, 220.81006899, 209.01857941,\n",
       "         0.        ,   0.        ,   0.        ,   0.        ,\n",
       "         0.        ,   0.        , 249.478705  , 429.27008175,\n",
       "         0.        ,   0.        ,   0.        ,   0.        ,\n",
       "         0.        ,   0.        , 188.5672169 , 175.26301596,\n",
       "       169.57108743, 165.58222068, 162.33898789, 160.09896941,\n",
       "       158.37802448, 156.32507246, 155.67032958, 154.1274274 ,\n",
       "       156.12931778, 156.0984295 , 156.74554286, 158.9965845 ,\n",
       "       160.64883828, 162.42901708, 162.80673394, 165.06959254,\n",
       "       171.05488165, 178.02834949, 181.90713851, 194.81668115,\n",
       "       207.80002934, 222.22454834, 231.483434  , 240.49205155,\n",
       "       240.01126886, 232.05058853, 226.20481537,   0.        ,\n",
       "         0.        ,   0.        ,   0.        ,   0.        ,\n",
       "         0.        ,   0.        ,   0.        ,   0.        ,\n",
       "         0.        ,   0.        ,   0.        ,   0.        ,\n",
       "         0.        ,   0.        ,   0.        ,   0.        ,\n",
       "         0.        ,   0.        ,   0.        ,   0.        ,\n",
       "         0.        ,   0.        ,   0.        ,   0.        ,\n",
       "         0.        ,   0.        ,   0.        ,   0.        ,\n",
       "         0.        ,   0.        ,   0.        ,   0.        ,\n",
       "         0.        ,   0.        ,   0.        ,   0.        ,\n",
       "         0.        ,   0.        , 252.17911296, 249.20212634,\n",
       "       243.74144384, 259.25346493, 227.95371916,   0.        ,\n",
       "       217.27458899, 245.44278371, 234.47659166, 248.87729241,\n",
       "       257.51548017, 266.24198481, 274.02972064, 274.59166442,\n",
       "       258.24965036, 251.41071876,   0.        , 504.22309856,\n",
       "       533.87393665, 541.29584554, 512.55633202, 506.41840619,\n",
       "       542.32788589,   0.        , 222.28754399, 205.48669073,\n",
       "       198.98415789, 197.27211593, 193.93111341, 193.47436602,\n",
       "       194.1886361 , 195.50561944, 198.82212999, 202.99883093,\n",
       "       209.71868478, 225.13632662, 232.12496918, 226.95819316,\n",
       "         0.        ,   0.        ,   0.        ,   0.        ,\n",
       "         0.        ,   0.        ,   0.        ,   0.        ,\n",
       "         0.        ,   0.        ,   0.        ,   0.        ,\n",
       "         0.        ,   0.        ,   0.        ,   0.        ,\n",
       "         0.        ,   0.        ,   0.        ,   0.        ,\n",
       "         0.        ,   0.        ,   0.        ,   0.        ,\n",
       "         0.        ,   0.        , 273.66085678, 247.5898405 ,\n",
       "       247.01671091, 245.2967466 , 254.84446765, 245.34799293,\n",
       "       242.72733215, 238.93649117, 232.90155285, 232.00464376,\n",
       "       229.46816816, 226.98694796, 227.17871576, 226.67164663,\n",
       "       227.21860828, 228.90748613, 256.07169811, 243.55094025,\n",
       "       253.40402947, 263.06350311, 271.68674151, 280.91414607,\n",
       "       289.93510081, 300.80813969, 308.70141538, 316.51523627,\n",
       "       329.62422265, 326.85305705, 333.15896543, 347.80499534,\n",
       "       354.08435828, 366.28375239, 345.57424604, 334.78286275,\n",
       "         0.        ,   0.        ,   0.        ,   0.        ,\n",
       "       669.16403135, 505.1738947 , 301.84990098,   0.        ,\n",
       "         0.        ,   0.        ,   0.        ,   0.        ,\n",
       "         0.        ,   0.        ,   0.        ,   0.        ,\n",
       "         0.        ,   0.        ,   0.        , 273.92198113,\n",
       "         0.        ,   0.        ,   0.        ,   0.        ,\n",
       "       266.56635531, 253.588329  , 240.38186012, 282.53187836,\n",
       "       259.72653692, 252.48341993, 249.92245069, 270.55235024,\n",
       "       254.82083624, 259.66246796, 264.65488205, 271.79375021,\n",
       "       281.68061327, 289.20005105, 295.00772187, 304.82243899,\n",
       "       309.04499604, 305.05006768, 293.45709487, 260.05794266,\n",
       "       297.14976305,   0.        ,   0.        ,   0.        ,\n",
       "         0.        ,   0.        ,   0.        ,   0.        ,\n",
       "         0.        ,   0.        ,   0.        , 331.98340574,\n",
       "       312.87416499, 281.02828876, 262.74751145, 250.8050712 ,\n",
       "       219.44470151, 242.8962616 , 234.66265357, 236.26029817,\n",
       "       232.21181462, 234.80446712,   0.        ,   0.        ,\n",
       "         0.        , 214.13599776, 229.22113458, 241.95990028,\n",
       "       278.14795778, 244.27111459, 218.27009717, 258.77552861,\n",
       "         0.        , 235.15877579, 239.88941987, 255.77080122,\n",
       "       265.15787451, 277.89438475, 291.15651117, 304.08952343,\n",
       "       315.24716931, 326.23305397, 331.48921533, 334.63884902,\n",
       "       335.18875759, 334.2089933 , 332.96728954, 324.96547393,\n",
       "       318.8325502 , 307.07545842,   0.        , 263.47184652,\n",
       "       226.33689951, 212.52609959, 199.33343616, 192.56699481,\n",
       "       185.18939714, 177.21777009, 170.41382112, 166.16835451,\n",
       "       165.08463115, 167.56326035, 168.84288778, 171.25288713,\n",
       "       174.88236021, 174.47153545, 170.07490339, 168.76611479,\n",
       "       167.85173231, 167.23761635, 167.29056159, 167.70374716,\n",
       "       167.28618507, 166.78050651, 167.11518244, 166.80878752,\n",
       "       168.32354338, 184.65462438, 177.02800922,   0.        ,\n",
       "         0.        ,   0.        ,   0.        ,   0.        ,\n",
       "         0.        ,   0.        ,   0.        ,   0.        ,\n",
       "         0.        ,   0.        ,   0.        ,   0.        ,\n",
       "       202.58999478, 172.75106866, 163.81368903, 160.8424723 ,\n",
       "       161.52368945, 160.11343413, 159.1508532 , 158.01138763,\n",
       "       166.23753875, 195.95796098, 172.60710207,   0.        ,\n",
       "         0.        ,   0.        ,   0.        ,   0.        ,\n",
       "         0.        ,   0.        ,   0.        ,   0.        ,\n",
       "         0.        , 302.53926571, 276.56224623, 274.4383161 ,\n",
       "       274.7428435 , 277.97450996, 280.96742253, 283.16138725,\n",
       "       284.32633745, 283.01136716, 282.77549715, 281.63222471,\n",
       "       280.24898125, 278.1823953 , 277.26936642, 275.39660127,\n",
       "         0.        , 281.14697484, 277.60144194, 279.75724452,\n",
       "       277.13093907, 226.46944922,   0.        ,   0.        ,\n",
       "         0.        , 217.8706298 , 280.40612289, 497.13492207,\n",
       "       554.69218831, 499.14383422,   0.        ,   0.        ,\n",
       "         0.        ,   0.        ,   0.        ,   0.        ,\n",
       "         0.        ,   0.        ,   0.        ,   0.        ,\n",
       "         0.        , 201.34747078, 185.79346923, 190.62835026,\n",
       "       195.7354467 , 201.99183352, 214.60724769, 223.94498334,\n",
       "       235.97453289, 252.30686336, 272.24922149, 290.11650792,\n",
       "         0.        ,   0.        ,   0.        ,   0.        ,\n",
       "         0.        ,   0.        ,   0.        ,   0.        ,\n",
       "       351.6486686 , 306.21446935, 292.95150595, 275.18214926,\n",
       "       258.66513419, 241.09594446, 226.73578103, 210.470943  ,\n",
       "       221.00005886, 234.80565947, 223.78658072, 229.38060498,\n",
       "       228.238619  , 216.78816358, 210.10805363, 207.97613023,\n",
       "       208.0307881 , 205.75562086, 202.33837444, 188.43096912,\n",
       "         0.        ,   0.        ,   0.        ,   0.        ,\n",
       "         0.        ,   0.        ,   0.        , 242.26187116,\n",
       "       225.7480715 , 217.85235514, 208.07304952, 195.84670773,\n",
       "       177.82359693, 174.02698149,   0.        ,   0.        ,\n",
       "         0.        ,   0.        ,   0.        ,   0.        ,\n",
       "         0.        ,   0.        ,   0.        ,   0.        ,\n",
       "         0.        , 199.14106497, 210.43845709, 187.49885851,\n",
       "       197.95396034, 204.58666067, 201.87679899, 213.74257478,\n",
       "       220.74906349, 224.4991231 , 231.51091511, 231.82663586,\n",
       "       232.06722417, 239.54640239, 246.83776452, 244.30969466,\n",
       "       244.94432593, 242.48648701, 238.49589383, 233.13108409,\n",
       "         0.        , 208.45501683, 202.04028832, 197.60093018,\n",
       "       192.97856119, 189.05212304, 194.97493766, 215.00831138,\n",
       "         0.        ,   0.        ,   0.        , 215.81403102,\n",
       "         0.        ,   0.        ,   0.        ,   0.        ,\n",
       "         0.        ,   0.        ,   0.        ,   0.        ,\n",
       "         0.        ,   0.        ,   0.        ,   0.        ,\n",
       "         0.        , 181.6308455 , 179.13968656, 168.23741896,\n",
       "       163.61539533, 157.18034136, 164.95105312, 174.88511925,\n",
       "         0.        , 163.56499909, 148.14043605, 140.96249746,\n",
       "       138.77950279, 137.35992075, 133.89114672, 131.18424229,\n",
       "       138.54035844, 130.95059161, 139.96697667,   0.        ,\n",
       "         0.        ,   0.        ,   0.        ,   0.        ,\n",
       "         0.        ,   0.        , 206.33797197, 202.55169301,\n",
       "       182.71860006, 187.30678026, 194.72670139, 202.90216256,\n",
       "       208.13345104, 230.10545283, 241.83951996, 257.41169712,\n",
       "       272.38013048, 285.72640477, 298.4208036 , 312.45758012,\n",
       "       316.23180112, 308.84235767,   0.        ,   0.        ,\n",
       "         0.        ,   0.        ,   0.        ,   0.        ,\n",
       "         0.        ,   0.        ,   0.        ,   0.        ])"
      ]
     },
     "execution_count": 12,
     "metadata": {},
     "output_type": "execute_result"
    }
   ],
   "source": [
    "pitch"
   ]
  },
  {
   "cell_type": "code",
   "execution_count": 30,
   "metadata": {},
   "outputs": [
    {
     "data": {
      "text/plain": [
       "(832, 80)"
      ]
     },
     "execution_count": 30,
     "metadata": {},
     "output_type": "execute_result"
    }
   ],
   "source": [
    "from src.configs import TrainConfig\n",
    "\n",
    "mel_gt_name = os.path.join(\n",
    "            TrainConfig.mel_ground_truth, \"ljspeech-mel-%05d.npy\" % 1)\n",
    "mel_gt_target = np.load(mel_gt_name)\n",
    "mel_gt_target.shape"
   ]
  },
  {
   "cell_type": "code",
   "execution_count": 17,
   "metadata": {},
   "outputs": [
    {
     "data": {
      "text/plain": [
       "tensor([ 386886.2851,  740271.3946, 1136812.6014, 1364378.2721, 1467945.2111,\n",
       "        1564832.9612, 1586009.6456, 1702217.6771, 1847315.3798, 1920373.4409,\n",
       "        2099619.8851, 2363589.7446, 2777561.9044, 3186192.0572, 3472710.7370,\n",
       "        3695505.0960, 3754919.3361, 3632249.8427, 3605971.6143, 3431111.8108,\n",
       "        3291234.5124, 3316933.5998, 3240219.5236, 2982880.7643, 2744160.0695,\n",
       "        2454858.6596, 2294554.7494, 2482661.6845, 2529579.1148, 2448488.2532,\n",
       "        2199236.9618, 1947407.2139, 1799323.4933, 1822682.6115, 1758293.4464,\n",
       "        1572533.4782, 1295256.8153,  887411.4722,  449279.2317,  283433.6368,\n",
       "         298245.6189,  507784.6328,  890014.8069, 1351046.1651, 1815753.6913,\n",
       "        2253575.3907, 2447451.1239, 2471264.1582, 2399052.6049, 2120954.0352,\n",
       "        1876056.9825, 1606869.7777, 1278762.3249, 1070375.8768,  942169.4284,\n",
       "         941696.8631, 1077056.1332, 1243845.2747, 1406323.2349, 1537789.7106,\n",
       "        1506066.6799, 1334367.3028, 1109040.6218, 1073126.3845, 1294739.7661,\n",
       "        1706227.1769, 2328672.9732, 2696440.1496, 3105310.3487, 3437722.3430,\n",
       "        3525173.6744, 3482986.0877, 3271086.8953, 2860150.9772, 2268409.1626,\n",
       "        1769940.9665, 1446845.2916, 1432801.2039, 1556167.6930, 1711520.0881,\n",
       "        1646991.3735, 1595705.1418, 1585130.2134, 1554444.3361, 1505070.8468,\n",
       "        1346081.2309, 1214972.1025, 1082190.4186,  960632.8968,  918665.1113,\n",
       "         924142.8044,  919270.8964,  861811.5282,  689691.8420,  535073.0353,\n",
       "         358066.6648,  204205.9294,  214781.0199,  219479.5773,  216555.4568,\n",
       "         214495.0895,  183615.3366,  160403.2937,  126552.2396,  190177.2239,\n",
       "        1103123.6114, 1664418.1056, 2085416.5988, 2461792.7444, 2519505.8118,\n",
       "        2495373.9214, 2430563.8692, 2272947.6120, 2176618.9089, 2216536.8979,\n",
       "        2158952.0721, 2096411.1924, 1995909.8396, 1666083.0162, 1429877.3482,\n",
       "        1198192.2885,  927127.2998,  714832.5425,  522709.7050,  417963.4060,\n",
       "         360361.9757,  283900.1190,  209512.4154,  151442.5648,  155202.7040,\n",
       "         283695.3632,  490500.7577,  736119.8465, 1414838.8658, 1789654.4414,\n",
       "        2084606.6091, 2366751.3076, 2552368.6641, 2689531.7029, 2795510.0086,\n",
       "        2569744.6103, 2063006.5393, 1513430.8474,  646680.3585,  297897.8224,\n",
       "         309818.8457,  396479.2141,  405857.2438,  385591.0925,  326834.0095,\n",
       "         177382.5708,  103709.6645,   81876.8854,   69243.1590,   58683.1285,\n",
       "          46791.0511,   35742.4224,   28468.6009,   23554.0010,   21037.0220,\n",
       "          16589.4550,   15402.2370,   13499.4816,   11057.2776,   10117.8585,\n",
       "           8581.5167,    7569.7399,    6792.4088,    6178.2284,    6052.2145,\n",
       "           5806.0468,    5962.1555,    6134.9126,    6015.6629,    5845.9425,\n",
       "           5528.4447,    5623.3969,   19770.5633,  270726.4499,  642037.3119,\n",
       "        1049792.1265, 1667137.0772, 2477713.2937, 3236241.7206, 3569102.5733,\n",
       "        3497530.0403, 3047742.9196, 2239773.1548, 1593345.8486, 1434297.6943,\n",
       "        1446477.4665, 1364784.4561, 1324808.6466, 1412313.0077, 1578469.9547,\n",
       "        1860277.1537, 1962031.4938, 1753427.0942, 1438441.4002,  971809.7819,\n",
       "         454326.3676,  316159.6052,  389069.9348,  414209.3331,  391002.4022,\n",
       "         328021.8967,  208425.4848,   92817.7728,  386944.8311,  657473.6164,\n",
       "         831773.6866,  883848.1651,  807155.4965,  953550.4981, 1121471.1154,\n",
       "        1202253.5489, 1266879.6931, 1124812.4706,  944688.9897,  994925.3421,\n",
       "        1120422.1908, 1261968.8192, 1381561.6944, 1474034.9997, 1504930.4458,\n",
       "        1441302.1909, 1358793.7401, 1221394.8201, 1179437.0804, 1246730.8965,\n",
       "        1338283.4533, 1448414.7417, 1469068.0606, 1498736.3386, 1654622.6795,\n",
       "        1929004.0569, 2146280.9598, 2248238.5135, 2250758.8575, 2166916.7174,\n",
       "        2052044.1114, 2036428.6935, 1974886.9127, 1788939.6546, 1671590.4181,\n",
       "        1537107.5943, 1396111.1086, 1397765.4054, 1328341.7011, 1172841.9634,\n",
       "        1057019.6633,  840670.2668,  729695.7501,  653813.2614,  556152.8758,\n",
       "         468635.1617,  576480.2248, 1208505.8267, 1416944.4030, 1414379.3952,\n",
       "        1330841.0741,  766123.5146,  127778.3761,  110450.5942,  162683.6641,\n",
       "         251779.0637,  280630.7075,  290911.0617,  612456.5009, 1074749.1753,\n",
       "        1240869.2796, 1367022.7163, 1348432.3753, 1111400.6238, 1031170.0296,\n",
       "         961741.8474,  881187.0380,  789737.6479,  666584.0062,  517891.3723,\n",
       "         501009.3009,  625045.0482, 1035290.3394, 1542822.7529, 1768109.1491,\n",
       "        1887641.7274, 1875534.8465, 1631087.5316, 1448846.1582, 1350758.7604,\n",
       "        1183469.8038, 1050725.8933, 1009413.7173,  818929.8083,  683887.9168,\n",
       "         597993.0977,  498953.9109,  545639.2862,  577813.4531,  614012.2720,\n",
       "         627147.8713,  621586.0566,  580387.0464,  497899.2756,  399261.8797,\n",
       "         288714.8097,  497444.2448,  953350.3190, 1282887.4611, 1611998.5564,\n",
       "        1739082.0227, 1661450.6651, 1424005.3719, 1035648.9314,  662588.1010,\n",
       "         151013.4703,  117721.3179,  108998.8465,   94339.2496,   85013.8103,\n",
       "          71458.5784,  194015.4282,  568703.6885,  781427.8477,  955802.0374,\n",
       "        1089740.0585, 1192217.8474, 1649057.8163, 2087269.2986, 2428254.9763,\n",
       "        2607156.2995, 2443232.6309, 2015866.8346, 1493362.0346,  906770.7626,\n",
       "         278187.2945,  215013.7950,  189402.2407,  160424.1282,  220166.7434,\n",
       "         442541.8637,  942982.2875, 1494697.8301, 2003765.6875, 2207071.6210,\n",
       "        2068947.4116, 1717530.1872, 1065657.5958,  361328.8091,  162771.7680,\n",
       "         109560.4317,   93789.9809,  422034.1651,  593717.0187,  756003.8464,\n",
       "         880084.7422,  943008.2516, 1132155.4845, 1285085.9367, 1420428.8373,\n",
       "        1541282.1461, 1533755.4088, 1504687.6412, 1454656.0506, 1367455.0755,\n",
       "        1321471.5584, 1311534.9672, 1362716.7066, 1301133.5171, 1206932.4305,\n",
       "        1112782.2192, 1101080.4527, 1207704.1922, 1328890.5655, 1318352.5536,\n",
       "        1153820.5249,  997509.1853,  792575.7517,  749388.7164,  811038.8207,\n",
       "        1022939.4071, 1308971.1156, 1519029.2705, 1680348.0624, 1786870.4985,\n",
       "        1781564.1503, 1758773.5349, 1668480.3343, 1418540.2037, 1116017.6383,\n",
       "         755107.9826,  479407.0014,  323242.5425,  321606.8956,  384319.3095,\n",
       "         635112.4648,  995856.1184, 1270572.4152, 1446023.1110, 1536545.0182,\n",
       "        1575645.4662, 1626227.2017, 1693525.3348, 1774659.6970, 1817454.4947,\n",
       "        1779002.3185, 1647957.7951, 1369530.3061, 1021871.4612,  670292.0001,\n",
       "         428148.0403,  366219.9837,  719925.7455, 1196805.2745, 1704169.7226,\n",
       "        2087840.7666, 2304820.6333, 2409942.8350, 2396313.5992, 2295890.1285,\n",
       "        2118806.3270, 1841533.0086, 1470313.2006, 1162256.5459, 1039564.3379,\n",
       "        1173593.6681, 1417039.8670, 1644782.2660, 1796704.6686, 1815893.3982,\n",
       "        1829401.7974, 1785051.7836, 1793402.8831, 1771640.7923, 1756582.3458,\n",
       "        1736582.4881, 1691427.3352, 1653143.0392, 1532716.7456, 1351386.6154,\n",
       "        1118111.2354,  925819.3831,  757979.6639,  784688.8394,  820868.2678,\n",
       "         855592.6490,  880102.0280,  883954.5396,  838865.5160,  765475.5383,\n",
       "         634939.6306,  492230.2997,  344710.8412,  203803.0669,  101008.4767,\n",
       "          49309.3640,   17371.3936,   13239.0128,   14158.9534,   15810.2669,\n",
       "          16960.1326,   17487.2639,   15905.2184,   13489.0748,   10856.7589,\n",
       "           7815.1205,    6569.3632,    7076.1573,    6877.8370,  108719.1903,\n",
       "         379979.1483, 1516888.2306, 2186482.7620, 2567859.9211, 2871585.8813,\n",
       "        2744504.5604, 2581541.8654, 2500391.1145, 2365237.9613, 2309608.3528,\n",
       "        2226100.3090, 2222356.8475, 2250277.5680, 2173162.0411, 2061688.5669,\n",
       "        1868337.2957, 1638326.3596, 1513193.8711, 1387238.1323, 1254259.3006,\n",
       "        1125091.9755,  918652.1672,  669633.2836,  415413.9307,  194293.1848,\n",
       "         184566.5241,  336255.8457,  389098.6727,  392279.0096,  564012.4912,\n",
       "         782127.6400,  949001.9063,  970306.5390,  894712.9715,  678295.2999,\n",
       "         382400.2729,  319464.2053,  250629.6839,  169710.4223,  105170.0000,\n",
       "          68138.0760,   52668.6196,   34244.9925,   27884.0162,  332728.9070,\n",
       "         457772.3336,  991861.9002, 1391553.2624, 1738713.2118, 2060747.6178,\n",
       "        2114324.2135, 2080003.2704, 1957788.2438, 1763634.7257, 1636131.7744,\n",
       "        1529186.0849, 1420022.0699, 1322065.8019, 1187115.8960, 1088400.6274,\n",
       "        1037247.4960,  985083.3062,  945509.2824,  979683.0938,  981824.1649,\n",
       "         978826.1067, 1015055.3298, 1034686.1289,  986777.7333,  999339.5979,\n",
       "         913287.7774,  738480.8078,  638591.5926,  466300.8271,  454810.0199,\n",
       "         429633.3389,  408805.5602,  369037.6683,  325699.0109,  279824.2631,\n",
       "         254476.8420,  215691.1345,  166847.7544,  122996.7287,   72445.9599,\n",
       "          31547.1604,   13070.6959,   10810.9425,   10360.3515,    9197.2319,\n",
       "           8466.9137,    8293.2624,    7571.6832], dtype=torch.float64)"
      ]
     },
     "execution_count": 17,
     "metadata": {},
     "output_type": "execute_result"
    }
   ],
   "source": [
    "import torch\n",
    "\n",
    "torch.stft(\n",
    "    torch.tensor(wav),\n",
    "    audio_params.filter_length,\n",
    "    audio_params.hop_length,\n",
    "    audio_params.win_length,\n",
    "    return_complex=False,\n",
    ").square().sum((0, 2)).sqrt()"
   ]
  },
  {
   "cell_type": "code",
   "execution_count": 14,
   "metadata": {},
   "outputs": [
    {
     "data": {
      "text/plain": [
       "(563,)"
      ]
     },
     "execution_count": 14,
     "metadata": {},
     "output_type": "execute_result"
    }
   ],
   "source": [
    "pitch.shape"
   ]
  },
  {
   "cell_type": "code",
   "execution_count": null,
   "metadata": {},
   "outputs": [],
   "source": [
    "\n",
    "\n",
    "\n",
    "pitch, t = pw.dio(\n",
    "            wav.numpy().astype(np.float64),\n",
    "            mel_config.sampling_rate,\n",
    "            frame_period=mel_config.hop_length / mel_config.sampling_rate * 1000,\n",
    "        )\n",
    "        pitch = pw.stonemask(wav.numpy().astype(np.float64), pitch, t, mel_config.sampling_rate)\n",
    "        energy = stft(wav).square().sum((-1, 0)).sqrt()\n",
    "\n",
    "        stft = lambda wav: "
   ]
  },
  {
   "cell_type": "code",
   "execution_count": 1,
   "metadata": {},
   "outputs": [
    {
     "name": "stderr",
     "output_type": "stream",
     "text": [
      "/repos/tts_project/src/xcmyz_utils/audio/stft.py:43: FutureWarning: Pass size=1024 as keyword args. From version 0.10 passing these as positional arguments will result in an error\n",
      "  fft_window = pad_center(fft_window, filter_length)\n",
      "/repos/tts_project/src/xcmyz_utils/audio/stft.py:130: FutureWarning: Pass sr=22050, n_fft=1024, n_mels=80, fmin=0.0, fmax=8000.0 as keyword args. From version 0.10 passing these as positional arguments will result in an error\n",
      "  mel_basis = librosa_mel_fn(\n"
     ]
    }
   ],
   "source": [
    "from src.pitch_energy import process_all_wavs\n",
    "from src.configs import TrainConfig"
   ]
  },
  {
   "cell_type": "code",
   "execution_count": 2,
   "metadata": {},
   "outputs": [
    {
     "name": "stderr",
     "output_type": "stream",
     "text": [
      "100%|██████████| 10/10 [00:01<00:00,  8.36it/s]\n"
     ]
    }
   ],
   "source": [
    "process_all_wavs(TrainConfig())"
   ]
  },
  {
   "cell_type": "code",
   "execution_count": 3,
   "metadata": {},
   "outputs": [
    {
     "name": "stderr",
     "output_type": "stream",
     "text": [
      "/tmp/ipykernel_401155/3956462488.py:3: UserWarning: \n",
      "\n",
      "`distplot` is a deprecated function and will be removed in seaborn v0.14.0.\n",
      "\n",
      "Please adapt your code to use either `displot` (a figure-level function with\n",
      "similar flexibility) or `histplot` (an axes-level function for histograms).\n",
      "\n",
      "For a guide to updating your code to use the new functions, please see\n",
      "https://gist.github.com/mwaskom/de44147ed2974457ad6372750bbe5751\n",
      "\n",
      "  sns.distplot(p)\n"
     ]
    },
    {
     "data": {
      "text/plain": [
       "<AxesSubplot:ylabel='Density'>"
      ]
     },
     "execution_count": 3,
     "metadata": {},
     "output_type": "execute_result"
    },
    {
     "data": {
      "image/png": "[encoded data removed]",
      "text/plain": [
       "<Figure size 432x288 with 1 Axes>"
      ]
     },
     "metadata": {
      "needs_background": "light"
     },
     "output_type": "display_data"
    }
   ],
   "source": [
    "import seaborn as sns\n",
    "\n",
    "sns.distplot(p)"
   ]
  },
  {
   "cell_type": "code",
   "execution_count": 4,
   "metadata": {},
   "outputs": [
    {
     "name": "stderr",
     "output_type": "stream",
     "text": [
      "/tmp/ipykernel_401155/353231339.py:1: UserWarning: \n",
      "\n",
      "`distplot` is a deprecated function and will be removed in seaborn v0.14.0.\n",
      "\n",
      "Please adapt your code to use either `displot` (a figure-level function with\n",
      "similar flexibility) or `histplot` (an axes-level function for histograms).\n",
      "\n",
      "For a guide to updating your code to use the new functions, please see\n",
      "https://gist.github.com/mwaskom/de44147ed2974457ad6372750bbe5751\n",
      "\n",
      "  sns.distplot(e)\n"
     ]
    },
    {
     "data": {
      "text/plain": [
       "<AxesSubplot:ylabel='Density'>"
      ]
     },
     "execution_count": 4,
     "metadata": {},
     "output_type": "execute_result"
    },
    {
     "data": {
      "image/png": "[encoded data removed]",
      "text/plain": [
       "<Figure size 432x288 with 1 Axes>"
      ]
     },
     "metadata": {
      "needs_background": "light"
     },
     "output_type": "display_data"
    }
   ],
   "source": [
    "sns.distplot(e)"
   ]
  },
  {
   "cell_type": "code",
   "execution_count": 5,
   "metadata": {},
   "outputs": [
    {
     "data": {
      "text/plain": [
       "array([3.17629938e-02, 4.87600768e+02])"
      ]
     },
     "execution_count": 5,
     "metadata": {},
     "output_type": "execute_result"
    }
   ],
   "source": [
    "import numpy as np\n",
    "\n",
    "b = np.load(\"data/energy/boundaries.npy\")\n",
    "b"
   ]
  },
  {
   "cell_type": "code",
   "execution_count": 6,
   "metadata": {},
   "outputs": [
    {
     "data": {
      "text/plain": [
       "array([  0.        , 861.06526801])"
      ]
     },
     "execution_count": 6,
     "metadata": {},
     "output_type": "execute_result"
    }
   ],
   "source": [
    "b = np.load(\"data/pitch/boundaries.npy\")\n",
    "b"
   ]
  },
  {
   "cell_type": "code",
   "execution_count": 5,
   "metadata": {},
   "outputs": [
    {
     "data": {
      "text/plain": [
       "array([7.78938104e+03, 3.85184081e+06, 7.69589223e+06, 1.15399437e+07])"
      ]
     },
     "execution_count": 5,
     "metadata": {},
     "output_type": "execute_result"
    }
   ],
   "source": [
    "np.linspace(b[0], b[1], 4)"
   ]
  },
  {
   "cell_type": "markdown",
   "metadata": {},
   "source": [
    "----"
   ]
  },
  {
   "cell_type": "code",
   "execution_count": 1,
   "metadata": {},
   "outputs": [],
   "source": [
    "%load_ext autoreload\n",
    "%autoreload 2"
   ]
  },
  {
   "cell_type": "code",
   "execution_count": 2,
   "metadata": {},
   "outputs": [
    {
     "name": "stderr",
     "output_type": "stream",
     "text": [
      "/repos/tts_project/src/xcmyz_utils/audio/stft.py:43: FutureWarning: Pass size=1024 as keyword args. From version 0.10 passing these as positional arguments will result in an error\n",
      "  fft_window = pad_center(fft_window, filter_length)\n",
      "/repos/tts_project/src/xcmyz_utils/audio/stft.py:130: FutureWarning: Pass sr=22050, n_fft=1024, n_mels=80, fmin=0.0, fmax=8000.0 as keyword args. From version 0.10 passing these as positional arguments will result in an error\n",
      "  mel_basis = librosa_mel_fn(\n",
      "100%|██████████| 13100/13100 [00:14<00:00, 898.73it/s]\n",
      "/opt/conda/lib/python3.8/site-packages/torch/serialization.py:786: SourceChangeWarning: source code of class 'glow.WaveGlow' has changed. Saved a reverse patch to WaveGlow.patch. Run `patch -p0 < WaveGlow.patch` to revert your changes.\n",
      "  warnings.warn(msg, SourceChangeWarning)\n",
      "/opt/conda/lib/python3.8/site-packages/torch/serialization.py:786: SourceChangeWarning: source code of class 'torch.nn.modules.conv.ConvTranspose1d' has changed. Saved a reverse patch to ConvTranspose1d.patch. Run `patch -p0 < ConvTranspose1d.patch` to revert your changes.\n",
      "  warnings.warn(msg, SourceChangeWarning)\n",
      "/opt/conda/lib/python3.8/site-packages/torch/serialization.py:786: SourceChangeWarning: source code of class 'torch.nn.modules.container.ModuleList' has changed. Saved a reverse patch to ModuleList.patch. Run `patch -p0 < ModuleList.patch` to revert your changes.\n",
      "  warnings.warn(msg, SourceChangeWarning)\n",
      "/opt/conda/lib/python3.8/site-packages/torch/serialization.py:786: SourceChangeWarning: source code of class 'glow.WN' has changed. Saved a reverse patch to WN.patch. Run `patch -p0 < WN.patch` to revert your changes.\n",
      "  warnings.warn(msg, SourceChangeWarning)\n",
      "/opt/conda/lib/python3.8/site-packages/torch/serialization.py:786: SourceChangeWarning: source code of class 'torch.nn.modules.conv.Conv1d' has changed. Saved a reverse patch to Conv1d.patch. Run `patch -p0 < Conv1d.patch` to revert your changes.\n",
      "  warnings.warn(msg, SourceChangeWarning)\n",
      "/opt/conda/lib/python3.8/site-packages/torch/serialization.py:786: SourceChangeWarning: source code of class 'glow.Invertible1x1Conv' has changed. Saved a reverse patch to Invertible1x1Conv.patch. Run `patch -p0 < Invertible1x1Conv.patch` to revert your changes.\n",
      "  warnings.warn(msg, SourceChangeWarning)\n"
     ]
    },
    {
     "name": "stdout",
     "output_type": "stream",
     "text": [
      "cost 14.58s to load all data into buffer.\n"
     ]
    }
   ],
   "source": [
    "from src.configs import TrainConfig, FastSpeech2Config, MelSpectrogramConfig\n",
    "from src.training.training_loop import train, prepare\n",
    "\n",
    "model_config = FastSpeech2Config()\n",
    "train_config = TrainConfig()\n",
    "mel_config = MelSpectrogramConfig()\n",
    "\n",
    "model, train_loader, fastspeech_loss, optimizer, scheduler, wave_glow = prepare(model_config, train_config, mel_config)"
   ]
  },
  {
   "cell_type": "code",
   "execution_count": 3,
   "metadata": {},
   "outputs": [],
   "source": [
    "for el in train_loader:\n",
    "    db = el[0]\n",
    "    break"
   ]
  },
  {
   "cell_type": "code",
   "execution_count": 4,
   "metadata": {},
   "outputs": [],
   "source": [
    "character = db[\"text\"].long().to(train_config.device)\n",
    "mel_target = db[\"mel_target\"].float().to(train_config.device)\n",
    "duration = db[\"duration\"].int().to(train_config.device)\n",
    "pitch = db[\"pitch\"].to(train_config.device)\n",
    "energy = db[\"energy\"].to(train_config.device)\n",
    "mel_pos = db[\"mel_pos\"].long().to(train_config.device)\n",
    "src_pos = db[\"src_pos\"].long().to(train_config.device)\n",
    "max_mel_len = db[\"mel_max_len\"]"
   ]
  },
  {
   "cell_type": "code",
   "execution_count": 6,
   "metadata": {},
   "outputs": [],
   "source": [
    "mel_output, \\\n",
    "duration_predictor_output, \\\n",
    "pitch_predictor_output, \\\n",
    "energy_predictor_output = model(character,\n",
    "                                src_pos,\n",
    "                                mel_pos=mel_pos,\n",
    "                                mel_max_length=max_mel_len,\n",
    "                                length_target=duration,\n",
    "                                pitch_target=pitch,\n",
    "                                energy_target=energy)"
   ]
  },
  {
   "cell_type": "code",
   "execution_count": 8,
   "metadata": {},
   "outputs": [],
   "source": [
    "model.eval()\n",
    "\n",
    "mel_output = model.forward(character[:1],\n",
    "                                            src_pos[:1])\n",
    "                                            #mel_pos=mel_pos,\n",
    "                                            #mel_max_length=max_mel_len,\n",
    "                                            #length_target=duration)"
   ]
  },
  {
   "cell_type": "code",
   "execution_count": 9,
   "metadata": {},
   "outputs": [
    {
     "data": {
      "text/plain": [
       "tensor([[[ 3.8226, -0.1586,  0.0335, -3.0184,  0.6428, -0.2378,  2.3843,\n",
       "          -0.5986, -0.9557, -3.1986, -0.3610, -0.4576, -0.2966, -0.4497,\n",
       "          -1.8486, -0.9477,  0.0748,  1.3247,  2.5518,  1.1681, -0.8931,\n",
       "           1.4322, -0.0532, -1.8941, -0.0218, -0.9786,  0.4298,  0.7188,\n",
       "          -1.1329,  0.8971, -2.1719,  2.3884,  0.5093,  2.7380, -0.9127,\n",
       "          -1.2180,  0.8754,  0.1039,  2.0895, -0.6396, -0.0058,  1.8791,\n",
       "          -0.2974, -0.3626,  1.9348, -0.2229,  2.0990,  0.7752,  0.7903,\n",
       "           0.1871,  0.2887,  0.2401, -0.1017, -1.4461,  1.1647, -0.4670,\n",
       "          -0.4105,  0.2458, -1.2259,  0.5402,  1.8929, -0.4691, -0.0345,\n",
       "           2.6794, -0.2951,  1.1316,  0.6770,  0.2211, -1.7926,  1.2302,\n",
       "          -0.2564,  1.4376,  0.5413,  0.2955, -1.4620, -1.4547, -0.2332,\n",
       "           0.6153,  1.6206,  0.3931],\n",
       "         [ 1.8971,  1.4175,  0.8586, -3.0478,  0.5931, -0.6224,  1.5628,\n",
       "           0.4056, -2.3109, -1.2273, -2.5111,  0.2113,  0.2523, -0.2765,\n",
       "          -0.8845,  0.7643, -0.0967, -2.4080,  2.6738,  3.8927, -0.8771,\n",
       "           1.8010,  0.4548, -1.0180,  0.2794, -1.4919,  2.0257, -1.2362,\n",
       "          -0.2832,  1.1995, -2.6235,  2.2812, -0.6463,  1.2620,  0.4297,\n",
       "           1.3348,  0.5668, -0.1290,  2.3470, -0.4038,  0.5088, -0.1210,\n",
       "          -0.3224, -0.1969,  0.5787, -0.6860,  1.7920, -1.2532,  3.3150,\n",
       "          -0.2956,  0.4190, -2.2886,  2.1978, -2.1775,  0.4238,  0.7830,\n",
       "           0.8723, -0.2128,  0.4754,  0.9233, -0.5026,  0.6065,  1.3356,\n",
       "           0.8938,  0.4546, -1.1509, -0.1351,  0.2860, -1.8045,  0.1862,\n",
       "           0.0616,  1.7915,  0.2755, -1.6777, -2.2977,  1.7253, -0.5506,\n",
       "          -0.9310,  1.9348, -0.1432],\n",
       "         [ 1.0899,  1.7096,  1.4048, -1.0973, -1.4026,  0.6083, -0.9164,\n",
       "          -1.4143, -2.3941, -2.2891, -1.8090, -0.8516,  1.0627, -1.0219,\n",
       "          -0.6843, -0.3840,  1.4436,  1.1736,  2.3606,  3.6768, -1.7006,\n",
       "          -0.5611, -0.7946, -2.7350, -0.1021,  0.6258, -0.9293,  1.3350,\n",
       "          -2.3893,  1.9079, -1.1576,  1.3752,  0.6319,  2.0177,  0.6798,\n",
       "           0.1259,  0.1811, -0.9402,  2.1530,  1.3080,  0.5629, -1.0654,\n",
       "           0.0948, -1.1263,  0.9762, -0.3491,  0.5353,  1.2707, -0.5878,\n",
       "           2.4738, -0.1018, -2.7714,  2.3094,  1.6747, -0.6372,  1.3384,\n",
       "          -1.7754, -0.6604, -0.1325, -0.8345, -0.4686,  0.4448, -1.3262,\n",
       "           0.4463,  0.0216,  1.5719,  0.2259, -0.5182, -0.3570,  1.3259,\n",
       "           2.5785,  1.3097, -1.8772, -1.2398, -1.3347, -1.6004,  1.9279,\n",
       "          -1.8979, -0.4825,  0.3504],\n",
       "         [ 0.8699,  1.7469,  1.3355, -3.5016, -1.4851,  2.4273, -1.4365,\n",
       "          -0.3013, -0.6022, -1.0017, -4.2681, -0.7785,  0.6674, -2.0681,\n",
       "          -0.8356, -0.2128,  1.2052,  2.2533,  1.9980,  3.0004,  0.3113,\n",
       "           0.2332, -1.1936, -1.2256,  2.1540, -0.6446,  0.4204,  0.9934,\n",
       "          -0.7858,  1.1928, -2.1207,  1.6155,  1.2164,  3.9391,  0.5092,\n",
       "           0.5695, -0.5752, -1.8320,  2.5372,  2.2602,  0.2150,  1.5540,\n",
       "           0.5684, -3.2059, -1.0299, -0.0333, -0.3227,  1.2408,  0.4300,\n",
       "          -0.7478, -0.5826, -1.2505,  0.6627,  0.9788,  0.3576,  0.2225,\n",
       "           0.1554, -0.3344,  1.3380, -0.3706, -0.5553, -0.3493,  1.2709,\n",
       "           1.8552,  1.9930, -0.3259,  1.6036,  1.3763, -1.7241,  0.4394,\n",
       "           1.2243,  3.6957, -0.0854, -1.0254, -1.1067, -1.9875,  0.0412,\n",
       "          -1.4737,  0.3773, -1.9373]]], device='cuda:0',\n",
       "       grad_fn=<AddBackward0>)"
      ]
     },
     "execution_count": 9,
     "metadata": {},
     "output_type": "execute_result"
    }
   ],
   "source": [
    "mel_output"
   ]
  }
 ],
 "metadata": {
  "kernelspec": {
   "display_name": "Python 3.8.12 ('base')",
   "language": "python",
   "name": "python3"
  },
  "language_info": {
   "codemirror_mode": {
    "name": "ipython",
    "version": 3
   },
   "file_extension": ".py",
   "mimetype": "text/x-python",
   "name": "python",
   "nbconvert_exporter": "python",
   "pygments_lexer": "ipython3",
   "version": "3.8.12"
  },
  "orig_nbformat": 4,
  "vscode": {
   "interpreter": {
    "hash": "d4d1e4263499bec80672ea0156c357c1ee493ec2b1c70f0acce89fc37c4a6abe"
   }
  }
 },
 "nbformat": 4,
 "nbformat_minor": 2
}
